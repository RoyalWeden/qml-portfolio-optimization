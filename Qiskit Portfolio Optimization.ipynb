{
 "cells": [
  {
   "cell_type": "markdown",
   "id": "273fbc53",
   "metadata": {
    "collapsed": true
   },
   "source": [
    "# _*Portfolio Optimization*_ \n"
   ]
  },
  {
   "cell_type": "markdown",
   "id": "9108e6de",
   "metadata": {},
   "source": [
    "## Introduction\n",
    "\n",
    "This tutorial shows how to solve the following mean-variance portfolio optimization problem for $n$ assets:\n",
    "\n",
    "$$\\begin{aligned}\n",
    "\\min_{x \\in \\{0, 1\\}^n}  q x^T \\Sigma x - \\mu^T x\\\\\n",
    "\\text{subject to: } 1^T x = B\n",
    "\\end{aligned}$$\n",
    "\n",
    "where we use the following notation:\n",
    "\n",
    "- $x \\in \\{0, 1\\}^n$ denotes the vector of binary decision variables, which indicate which assets to pick ($x[i] = 1$) and which not to pick ($x[i] = 0$),\n",
    "- $\\mu \\in \\mathbb{R}^n$ defines the expected returns for the assets,\n",
    "- $\\Sigma \\in \\mathbb{R}^{n \\times n}$ specifies the covariances between the assets,\n",
    "- $q > 0$ controls the risk appetite of the decision maker,\n",
    "- and $B$ denotes the budget, i.e. the number of assets to be selected out of $n$.\n",
    "\n",
    "We assume the following simplifications:\n",
    "- all assets have the same price (normalized to 1),\n",
    "- the full budget $B$ has to be spent, i.e. one has to select exactly $B$ assets.\n",
    "\n",
    "The equality constraint $1^T x = B$ is mapped to a penalty term $(1^T x - B)^2$ which is scaled by a parameter and subtracted from the objective function. \n",
    "The resulting problem can be mapped to a Hamiltonian whose ground state corresponds to  the optimal solution.\n",
    "This notebook shows how to use the Variational Quantum Eigensolver (VQE) or the Quantum Approximate Optimization Algorithm (QAOA) to find the optimal solution for a given set of parameters.\n",
    "\n",
    "Experiments on real quantum hardware for this problem are reported for instance in the following paper:\n",
    "<br>\n",
    "<a href=\"https://arxiv.org/abs/1907.04769\">Improving Variational Quantum Optimization using CVaR. Barkoutsos et al. 2019.</a>"
   ]
  },
  {
   "cell_type": "code",
   "execution_count": 1,
   "id": "a2ac625d",
   "metadata": {
    "ExecuteTime": {
     "end_time": "2020-07-13T20:35:05.710593Z",
     "start_time": "2020-07-13T20:34:57.647535Z"
    }
   },
   "outputs": [],
   "source": [
    "from qiskit import Aer, IBMQ\n",
    "from qiskit.algorithms import VQE, QAOA, NumPyMinimumEigensolver\n",
    "from qiskit.algorithms.optimizers import COBYLA\n",
    "from qiskit.circuit.library import TwoLocal\n",
    "from qiskit.utils import QuantumInstance\n",
    "from qiskit_finance.applications.optimization import PortfolioOptimization\n",
    "from qiskit_finance.data_providers import RandomDataProvider\n",
    "from qiskit_optimization.algorithms import MinimumEigenOptimizer\n",
    "from qiskit_optimization.applications import OptimizationApplication\n",
    "from qiskit_optimization.converters import QuadraticProgramToQubo\n",
    "import numpy as np\n",
    "import matplotlib.pyplot as plt\n",
    "import datetime"
   ]
  },
  {
   "cell_type": "markdown",
   "id": "40b3c889",
   "metadata": {},
   "source": [
    "### [Optional] Setup token to run the experiment on a real device\n",
    "If you would like to run the experiment on a real device, you need to setup your account first.\n",
    "\n",
    "Note: If you do not store your token yet, use `IBMQ.save_account('MY_API_TOKEN')` to store it first."
   ]
  },
  {
   "cell_type": "code",
   "execution_count": 2,
   "id": "f0635508",
   "metadata": {},
   "outputs": [
    {
     "name": "stderr",
     "output_type": "stream",
     "text": [
      "configrc.store_credentials:WARNING:2021-07-16 14:00:30,607: Credentials already present. Set overwrite=True to overwrite.\n"
     ]
    }
   ],
   "source": [
    "IBMQ.save_account('58da02819391df475f9464fcb2284addf0d8f436304b7cc1994892f1b2b4bf220bee9cd102e431b7188bdad75aa7ee7dbc4fe08887350941acacdfc93062f5bd')"
   ]
  },
  {
   "cell_type": "markdown",
   "id": "2d9e1bcd",
   "metadata": {},
   "source": [
    "## Define problem instance\n",
    "\n",
    "Here an Operator instance is created for our Hamiltonian. In this case the paulis are from an Ising Hamiltonian translated from the portfolio problem. We use a random portfolio problem for this notebook. It is straight-forward to extend this to using real financial data as illustrated here:<br>\n",
    "[Loading and Processing Stock-Market Time-Series Data](11_time_series.ipynb)"
   ]
  },
  {
   "cell_type": "code",
   "execution_count": 3,
   "id": "20d66512",
   "metadata": {
    "ExecuteTime": {
     "end_time": "2020-07-13T20:35:15.224327Z",
     "start_time": "2020-07-13T20:35:15.213892Z"
    }
   },
   "outputs": [],
   "source": [
    "# set number of assets (= number of qubits)\n",
    "num_assets = 5\n",
    "seed = 123\n",
    "\n",
    "# Generate expected return and covariance matrix from (random) time-series\n",
    "stocks = [(f\"TICKER{i}\") for i in range(num_assets)]\n",
    "data = RandomDataProvider(tickers=stocks,\n",
    "                 start=datetime.datetime(2016,1,1),\n",
    "                 end=datetime.datetime(2016,1,30),\n",
    "                 seed=seed)\n",
    "data.run()\n",
    "mu = data.get_period_return_mean_vector()\n",
    "sigma = data.get_period_return_covariance_matrix()"
   ]
  },
  {
   "cell_type": "code",
   "execution_count": 4,
   "id": "f3d82206",
   "metadata": {},
   "outputs": [
    {
     "data": {
      "text/plain": [
       "(array([-0.02475081, -0.45596106,  0.40016363,  0.3400763 ,  0.3873103 ]),\n",
       " array([-0.41776456, -0.18761072,  0.19661878,  0.10717383, -0.39118719]))"
      ]
     },
     "execution_count": 4,
     "metadata": {},
     "output_type": "execute_result"
    }
   ],
   "source": [
    "data.get_coordinates()"
   ]
  },
  {
   "cell_type": "code",
   "execution_count": 5,
   "id": "c8d97799",
   "metadata": {
    "tags": [
     "nbsphinx-thumbnail"
    ]
   },
   "outputs": [
    {
     "data": {
      "image/png": "[encoded data removed]",
      "text/plain": [
       "<Figure size 432x288 with 1 Axes>"
      ]
     },
     "metadata": {
      "needs_background": "light"
     },
     "output_type": "display_data"
    }
   ],
   "source": [
    "# plot sigma\n",
    "plt.imshow(sigma, interpolation='nearest')\n",
    "plt.show()"
   ]
  },
  {
   "cell_type": "code",
   "execution_count": 6,
   "id": "68e9513a",
   "metadata": {
    "ExecuteTime": {
     "end_time": "2020-07-13T20:35:15.231767Z",
     "start_time": "2020-07-13T20:35:15.226490Z"
    }
   },
   "outputs": [
    {
     "data": {
      "text/plain": [
       "\\ This file has been generated by DOcplex\n",
       "\\ ENCODING=ISO-8859-1\n",
       "\\Problem name: Portfolio optimization\n",
       "\n",
       "Minimize\n",
       " obj: - 0.015284386652 x_0 + 0.000780952145 x_1 - 0.000517920547 x_2\n",
       "      - 0.000870005837 x_3 - 0.010323519990 x_4 + [ 0.002541388592 x_0^2\n",
       "      + 0.000146804433 x_0*x_1 + 0.000257201062 x_0*x_2 - 0.000199722426 x_0*x_3\n",
       "      - 0.000626398406 x_0*x_4 + 0.000258486713 x_1^2 + 0.000106085519 x_1*x_2\n",
       "      + 0.000088963242 x_1*x_3 - 0.000026490315 x_1*x_4 + 0.000791504681 x_2^2\n",
       "      - 0.000247774763 x_2*x_3 - 0.000001940547 x_2*x_4 + 0.000197892585 x_3^2\n",
       "      + 0.000170306704 x_3*x_4 + 0.000543294856 x_4^2 ]/2\n",
       "Subject To\n",
       " c0: x_0 + x_1 + x_2 + x_3 + x_4 = 2\n",
       "\n",
       "Bounds\n",
       " 0 <= x_0 <= 1\n",
       " 0 <= x_1 <= 1\n",
       " 0 <= x_2 <= 1\n",
       " 0 <= x_3 <= 1\n",
       " 0 <= x_4 <= 1\n",
       "\n",
       "Binaries\n",
       " x_0 x_1 x_2 x_3 x_4\n",
       "End"
      ]
     },
     "execution_count": 6,
     "metadata": {},
     "output_type": "execute_result"
    }
   ],
   "source": [
    "q = 0.5                   # set risk factor\n",
    "budget = num_assets // 2  # set budget\n",
    "penalty = num_assets      # set parameter to scale the budget penalty term\n",
    "\n",
    "portfolio = PortfolioOptimization(expected_returns=mu, covariances=sigma, risk_factor=q, budget=budget)\n",
    "qp = portfolio.to_quadratic_program()\n",
    "qp"
   ]
  },
  {
   "cell_type": "markdown",
   "id": "3e6fe33e",
   "metadata": {},
   "source": [
    "We define some utility methods to print the results in a nice format."
   ]
  },
  {
   "cell_type": "code",
   "execution_count": 7,
   "id": "dc8a424f",
   "metadata": {
    "ExecuteTime": {
     "end_time": "2020-07-13T20:35:15.243604Z",
     "start_time": "2020-07-13T20:35:15.233567Z"
    }
   },
   "outputs": [],
   "source": [
    "def index_to_selection(i, num_assets):\n",
    "    s = \"{0:b}\".format(i).rjust(num_assets)\n",
    "    x = np.array([1 if s[i]=='1' else 0 for i in reversed(range(num_assets))])\n",
    "    return x\n",
    "\n",
    "def print_result(result):\n",
    "    selection = result.x\n",
    "    value = result.fval\n",
    "    print(f'Optimal: selection {selection}, value {value:.4f}')\n",
    "    \n",
    "    eigenstate = result.min_eigen_solver_result.eigenstate\n",
    "    eigenvector = eigenstate if isinstance(eigenstate, np.ndarray) else eigenstate.to_matrix()\n",
    "    probabilities = np.abs(eigenvector)**2\n",
    "    i_sorted = reversed(np.argsort(probabilities))\n",
    "    print('\\n----------------- Full result ---------------------')\n",
    "    print('selection\\tvalue\\t\\tprobability')\n",
    "    print('---------------------------------------------------')\n",
    "    for i in i_sorted:\n",
    "        x = index_to_selection(i, num_assets)\n",
    "        value = QuadraticProgramToQubo().convert(qp).objective.evaluate(x)\n",
    "        #value = portfolio.to_quadratic_program().objective.evaluate(x)\n",
    "        probability = probabilities[i]\n",
    "        print(f'{x}\\t{value:.4f}\\t\\t{probability:.4f}')"
   ]
  },
  {
   "cell_type": "markdown",
   "id": "e93897c3",
   "metadata": {},
   "source": [
    "## NumPyMinimumEigensolver (as a classical reference)\n",
    "Lets solve the problem. First classically...\n",
    "\n",
    "We can now use the Operator we built above without regard to the specifics of how it was created. We set the algorithm for the NumPyMinimumEigensolver so we can have a classical reference. The problem is set for 'ising'. Backend is not required since this is computed classically not using quantum computation. The result is returned as a dictionary."
   ]
  },
  {
   "cell_type": "code",
   "execution_count": 8,
   "id": "a4350fe9",
   "metadata": {
    "ExecuteTime": {
     "end_time": "2020-07-13T20:35:15.264319Z",
     "start_time": "2020-07-13T20:35:15.245811Z"
    }
   },
   "outputs": [
    {
     "name": "stdout",
     "output_type": "stream",
     "text": [
      "Optimal: selection [1. 0. 0. 0. 1.], value -0.0244\n",
      "\n",
      "----------------- Full result ---------------------\n",
      "selection\tvalue\t\tprobability\n",
      "---------------------------------------------------\n",
      "[1 0 0 0 1]\t-0.0244\t\t1.0000\n",
      "[1 1 1 1 1]\t9.2537\t\t0.0000\n",
      "[0 1 1 1 0]\t1.0309\t\t0.0000\n",
      "[1 0 0 0 0]\t1.0169\t\t0.0000\n",
      "[0 1 0 0 0]\t1.0318\t\t0.0000\n",
      "[1 1 0 0 0]\t-0.0130\t\t0.0000\n",
      "[0 0 1 0 0]\t1.0308\t\t0.0000\n",
      "[1 0 1 0 0]\t-0.0140\t\t0.0000\n",
      "[0 1 1 0 0]\t0.0008\t\t0.0000\n",
      "[1 1 1 0 0]\t1.0179\t\t0.0000\n",
      "[0 0 0 1 0]\t1.0301\t\t0.0000\n",
      "[1 0 0 1 0]\t-0.0149\t\t0.0000\n",
      "[0 1 0 1 0]\t0.0002\t\t0.0000\n",
      "[1 1 0 1 0]\t1.0170\t\t0.0000\n",
      "[0 0 1 1 0]\t-0.0010\t\t0.0000\n",
      "[1 0 1 1 0]\t1.0159\t\t0.0000\n",
      "[1 1 1 1 0]\t4.1096\t\t0.0000\n",
      "[0 1 1 1 1]\t4.1135\t\t0.0000\n",
      "[0 0 0 0 1]\t1.0208\t\t0.0000\n",
      "[0 1 0 0 1]\t-0.0092\t\t0.0000\n",
      "[1 1 0 0 1]\t1.0075\t\t0.0000\n",
      "[0 0 1 0 1]\t-0.0102\t\t0.0000\n",
      "[1 0 1 0 1]\t1.0065\t\t0.0000\n",
      "[0 1 1 0 1]\t1.0217\t\t0.0000\n",
      "[1 1 1 0 1]\t4.1002\t\t0.0000\n",
      "[0 0 0 1 1]\t-0.0107\t\t0.0000\n",
      "[1 0 0 1 1]\t1.0057\t\t0.0000\n",
      "[0 1 0 1 1]\t1.0211\t\t0.0000\n",
      "[1 1 0 1 1]\t4.0994\t\t0.0000\n",
      "[0 0 1 1 1]\t1.0199\t\t0.0000\n",
      "[1 0 1 1 1]\t4.0982\t\t0.0000\n",
      "[0 0 0 0 0]\t4.1235\t\t0.0000\n"
     ]
    }
   ],
   "source": [
    "exact_mes = NumPyMinimumEigensolver()\n",
    "exact_eigensolver = MinimumEigenOptimizer(exact_mes)\n",
    "\n",
    "result = exact_eigensolver.solve(qp)\n",
    "\n",
    "print_result(result)"
   ]
  },
  {
   "cell_type": "markdown",
   "id": "ee28b0c3",
   "metadata": {},
   "source": [
    "## Solution using VQE\n",
    "We can now use the Variational Quantum Eigensolver (VQE) to solve the problem. We will specify the optimizer and variational form to be used.\n",
    "\n",
    "Note: You can switch to different backends by providing the name of backend."
   ]
  },
  {
   "cell_type": "code",
   "execution_count": 9,
   "id": "4360501f",
   "metadata": {
    "ExecuteTime": {
     "end_time": "2020-07-13T20:35:26.536878Z",
     "start_time": "2020-07-13T20:35:24.379996Z"
    }
   },
   "outputs": [
    {
     "name": "stdout",
     "output_type": "stream",
     "text": [
      "Optimal: selection [1. 0. 0. 0. 1.], value -0.0244\n",
      "\n",
      "----------------- Full result ---------------------\n",
      "selection\tvalue\t\tprobability\n",
      "---------------------------------------------------\n",
      "[1 0 1 0 0]\t-0.0140\t\t0.3031\n",
      "[1 1 0 0 0]\t-0.0130\t\t0.2624\n",
      "[0 0 1 0 1]\t-0.0102\t\t0.1836\n",
      "[0 1 0 0 1]\t-0.0092\t\t0.1385\n",
      "[1 0 0 1 0]\t-0.0149\t\t0.0578\n",
      "[0 0 0 1 1]\t-0.0107\t\t0.0534\n",
      "[1 0 1 1 0]\t1.0159\t\t0.0002\n",
      "[0 0 1 1 1]\t1.0199\t\t0.0002\n",
      "[1 0 0 1 1]\t1.0057\t\t0.0002\n",
      "[1 1 0 1 0]\t1.0170\t\t0.0001\n",
      "[1 1 1 1 0]\t4.1096\t\t0.0001\n",
      "[0 0 0 1 0]\t1.0301\t\t0.0001\n",
      "[0 0 0 0 1]\t1.0208\t\t0.0001\n",
      "[1 1 1 0 0]\t1.0179\t\t0.0000\n",
      "[1 0 0 0 0]\t1.0169\t\t0.0000\n",
      "[0 0 1 1 0]\t-0.0010\t\t0.0000\n",
      "[1 1 0 0 1]\t1.0075\t\t0.0000\n",
      "[1 0 0 0 1]\t-0.0244\t\t0.0000\n",
      "[1 1 0 1 1]\t4.0994\t\t0.0000\n",
      "[0 1 1 0 1]\t1.0217\t\t0.0000\n",
      "[0 1 0 0 0]\t1.0318\t\t0.0000\n",
      "[0 1 1 1 1]\t4.1135\t\t0.0000\n",
      "[1 1 1 1 1]\t9.2537\t\t0.0000\n",
      "[1 0 1 1 1]\t4.0982\t\t0.0000\n",
      "[0 1 0 1 0]\t0.0002\t\t0.0000\n",
      "[0 1 0 1 1]\t1.0211\t\t0.0000\n",
      "[0 0 0 0 0]\t4.1235\t\t0.0000\n",
      "[0 1 1 1 0]\t1.0309\t\t0.0000\n",
      "[1 1 1 0 1]\t4.1002\t\t0.0000\n",
      "[0 1 1 0 0]\t0.0008\t\t0.0000\n",
      "[0 0 1 0 0]\t1.0308\t\t0.0000\n",
      "[1 0 1 0 1]\t1.0065\t\t0.0000\n"
     ]
    }
   ],
   "source": [
    "from qiskit.utils import algorithm_globals\n",
    "\n",
    "algorithm_globals.random_seed = 1234\n",
    "backend = Aer.get_backend('statevector_simulator')\n",
    "\n",
    "cobyla = COBYLA()\n",
    "cobyla.set_options(maxiter=500)\n",
    "ry = TwoLocal(num_assets, 'ry', 'cz', reps=3, entanglement='full')\n",
    "quantum_instance = QuantumInstance(backend=backend, seed_simulator=seed, seed_transpiler=seed)\n",
    "vqe_mes = VQE(ry, optimizer=cobyla, quantum_instance=quantum_instance)\n",
    "vqe = MinimumEigenOptimizer(vqe_mes)\n",
    "result = vqe.solve(qp)\n",
    "\n",
    "print_result(result)"
   ]
  },
  {
   "cell_type": "markdown",
   "id": "d5abddc7",
   "metadata": {},
   "source": [
    "### Solution using QAOA\n",
    "\n",
    "We also show here a result using the Quantum Approximate Optimization Algorithm (QAOA). This is another variational algorithm and it uses an internal variational form that is created based on the problem."
   ]
  },
  {
   "cell_type": "code",
   "execution_count": 10,
   "id": "9091b689",
   "metadata": {
    "ExecuteTime": {
     "end_time": "2020-07-13T20:35:28.570970Z",
     "start_time": "2020-07-13T20:35:26.539093Z"
    }
   },
   "outputs": [
    {
     "name": "stdout",
     "output_type": "stream",
     "text": [
      "Optimal: selection [1. 0. 0. 0. 1.], value -0.0244\n",
      "\n",
      "----------------- Full result ---------------------\n",
      "selection\tvalue\t\tprobability\n",
      "---------------------------------------------------\n",
      "[0 1 1 0 0]\t0.0008\t\t0.1027\n",
      "[0 1 0 1 0]\t0.0002\t\t0.1025\n",
      "[0 0 1 1 0]\t-0.0010\t\t0.1020\n",
      "[0 1 0 0 1]\t-0.0092\t\t0.0994\n",
      "[0 0 1 0 1]\t-0.0102\t\t0.0991\n",
      "[0 0 0 1 1]\t-0.0107\t\t0.0989\n",
      "[1 1 0 0 0]\t-0.0130\t\t0.0983\n",
      "[1 0 1 0 0]\t-0.0140\t\t0.0980\n",
      "[1 0 0 1 0]\t-0.0149\t\t0.0976\n",
      "[1 0 0 0 1]\t-0.0244\t\t0.0948\n",
      "[1 0 1 1 1]\t4.0982\t\t0.0010\n",
      "[1 1 1 0 1]\t4.1002\t\t0.0010\n",
      "[1 1 0 1 1]\t4.0994\t\t0.0010\n",
      "[1 1 1 1 0]\t4.1096\t\t0.0009\n",
      "[0 1 1 1 1]\t4.1135\t\t0.0009\n",
      "[1 0 0 0 0]\t1.0169\t\t0.0004\n",
      "[0 0 0 0 1]\t1.0208\t\t0.0003\n",
      "[0 1 1 1 0]\t1.0309\t\t0.0003\n",
      "[0 0 0 1 0]\t1.0301\t\t0.0002\n",
      "[0 0 1 0 0]\t1.0308\t\t0.0002\n",
      "[0 1 0 0 0]\t1.0318\t\t0.0002\n",
      "[1 1 1 1 1]\t9.2537\t\t0.0001\n",
      "[0 0 0 0 0]\t4.1235\t\t0.0001\n",
      "[0 1 1 0 1]\t1.0217\t\t0.0001\n",
      "[0 1 0 1 1]\t1.0211\t\t0.0001\n",
      "[0 0 1 1 1]\t1.0199\t\t0.0001\n",
      "[1 1 1 0 0]\t1.0179\t\t0.0000\n",
      "[1 1 0 1 0]\t1.0170\t\t0.0000\n",
      "[1 0 1 1 0]\t1.0159\t\t0.0000\n",
      "[1 0 0 1 1]\t1.0057\t\t0.0000\n",
      "[1 0 1 0 1]\t1.0065\t\t0.0000\n",
      "[1 1 0 0 1]\t1.0075\t\t0.0000\n"
     ]
    }
   ],
   "source": [
    "algorithm_globals.random_seed = 1234\n",
    "backend = Aer.get_backend('statevector_simulator')\n",
    "\n",
    "cobyla = COBYLA()\n",
    "cobyla.set_options(maxiter=250)\n",
    "quantum_instance = QuantumInstance(backend=backend, seed_simulator=seed, seed_transpiler=seed)\n",
    "qaoa_mes = QAOA(optimizer=cobyla, reps=3, quantum_instance=quantum_instance)\n",
    "qaoa = MinimumEigenOptimizer(qaoa_mes)\n",
    "result = qaoa.solve(qp)\n",
    "\n",
    "print_result(result)"
   ]
  },
  {
   "cell_type": "code",
   "execution_count": 11,
   "id": "7c3bb4c7",
   "metadata": {
    "ExecuteTime": {
     "end_time": "2020-07-13T20:35:29.079589Z",
     "start_time": "2020-07-13T20:35:28.573543Z"
    }
   },
   "outputs": [
    {
     "data": {
      "text/html": [
       "<h3>Version Information</h3><table><tr><th>Qiskit Software</th><th>Version</th></tr><tr><td><code>qiskit-terra</code></td><td>0.18.0</td></tr><tr><td><code>qiskit-aer</code></td><td>0.8.2</td></tr><tr><td><code>qiskit-ignis</code></td><td>0.6.0</td></tr><tr><td><code>qiskit-ibmq-provider</code></td><td>0.14.0</td></tr><tr><td><code>qiskit-aqua</code></td><td>0.9.2</td></tr><tr><td><code>qiskit</code></td><td>0.27.0</td></tr><tr><td><code>qiskit-optimization</code></td><td>0.1.0</td></tr><tr><td><code>qiskit-machine-learning</code></td><td>0.2.0</td></tr><tr><th>System information</th></tr><tr><td>Python</td><td>3.9.5 (tags/v3.9.5:0a7dcbd, May  3 2021, 17:27:52) [MSC v.1928 64 bit (AMD64)]</td></tr><tr><td>OS</td><td>Windows</td></tr><tr><td>CPUs</td><td>4</td></tr><tr><td>Memory (Gb)</td><td>7.595874786376953</td></tr><tr><td colspan='2'>Fri Jul 16 14:00:44 2021 Central Daylight Time</td></tr></table>"
      ],
      "text/plain": [
       "<IPython.core.display.HTML object>"
      ]
     },
     "metadata": {},
     "output_type": "display_data"
    },
    {
     "data": {
      "text/html": [
       "<div style='width: 100%; background-color:#d5d9e0;padding-left: 10px; padding-bottom: 10px; padding-right: 10px; padding-top: 5px'><h3>This code is a part of Qiskit</h3><p>&copy; Copyright IBM 2017, 2021.</p><p>This code is licensed under the Apache License, Version 2.0. You may<br>obtain a copy of this license in the LICENSE.txt file in the root directory<br> of this source tree or at http://www.apache.org/licenses/LICENSE-2.0.<p>Any modifications or derivative works of this code must retain this<br>copyright notice, and modified files need to carry a notice indicating<br>that they have been altered from the originals.</p></div>"
      ],
      "text/plain": [
       "<IPython.core.display.HTML object>"
      ]
     },
     "metadata": {},
     "output_type": "display_data"
    }
   ],
   "source": [
    "import qiskit.tools.jupyter\n",
    "%qiskit_version_table\n",
    "%qiskit_copyright"
   ]
  }
 ],
 "metadata": {
  "kernelspec": {
   "display_name": "Python 3 (ipykernel)",
   "language": "python",
   "name": "python3"
  },
  "language_info": {
   "codemirror_mode": {
    "name": "ipython",
    "version": 3
   },
   "file_extension": ".py",
   "mimetype": "text/x-python",
   "name": "python",
   "nbconvert_exporter": "python",
   "pygments_lexer": "ipython3",
   "version": "3.9.5"
  }
 },
 "nbformat": 4,
 "nbformat_minor": 5
}
